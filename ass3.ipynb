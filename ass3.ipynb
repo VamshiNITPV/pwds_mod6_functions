{
 "cells": [
  {
   "cell_type": "markdown",
   "id": "fb41b78b-c3ae-4e84-b455-56aec8c65350",
   "metadata": {
    "tags": []
   },
   "source": [
    "# Theory Questions"
   ]
  },
  {
   "cell_type": "markdown",
   "id": "1397371b-c90f-48a4-8f88-0d6e4934177f",
   "metadata": {},
   "source": [
    " ### 1. What is the difference between a function and a method in Python"
   ]
  },
  {
   "cell_type": "markdown",
   "id": "881c544c-d477-4208-aa5f-666ab341c465",
   "metadata": {},
   "source": [
    "A function is a block of reusable code that perform specific task."
   ]
  },
  {
   "cell_type": "code",
   "execution_count": 1,
   "id": "833623d7-4c98-4bc7-a846-c0f9421dd36b",
   "metadata": {},
   "outputs": [
    {
     "name": "stdout",
     "output_type": "stream",
     "text": [
      "This is a function\n"
     ]
    }
   ],
   "source": [
    "def my_function():\n",
    "    print(\"This is a function\")\n",
    "my_function()  # This calls the function and prints number of times that you input    "
   ]
  },
  {
   "cell_type": "markdown",
   "id": "3bb873f0-642c-4086-a519-7bea6a2e2f4a",
   "metadata": {},
   "source": [
    "A method is associated with in an object. In python, methods are functions that belong to the class."
   ]
  },
  {
   "cell_type": "code",
   "execution_count": 4,
   "id": "3e89bf92-3f25-4b05-b0d9-41e4aa105fd0",
   "metadata": {},
   "outputs": [
    {
     "name": "stdout",
     "output_type": "stream",
     "text": [
      "this is method\n"
     ]
    }
   ],
   "source": [
    "class Myclass:\n",
    "    def my_method(self):\n",
    "        print(\"this is method\")\n",
    "obj=Myclass()#creating instance my class\n",
    "obj.my_method()#calling method in object"
   ]
  },
  {
   "cell_type": "markdown",
   "id": "c0f22e5a-fd5b-4d15-93d2-f786ea3bb29b",
   "metadata": {},
   "source": [
    "### 2.  Explain the concept of function arguments and parameters in Python"
   ]
  },
  {
   "cell_type": "markdown",
   "id": "8cba8048-e175-41f8-838f-819f5cb506d5",
   "metadata": {},
   "source": [
    "#### Parameters"
   ]
  },
  {
   "cell_type": "markdown",
   "id": "856706ae-ab96-41d4-bdb3-34a3a1e990ed",
   "metadata": {},
   "source": [
    "Parameters are the variables where you call in a function. Parameters are the placeholders for the arguments."
   ]
  },
  {
   "cell_type": "markdown",
   "id": "b38bee1a-6162-453b-bec3-03f67a1c71b6",
   "metadata": {},
   "source": [
    "#### Arguments"
   ]
  },
  {
   "cell_type": "markdown",
   "id": "ced073f6-33a3-4c05-987e-4ca13cf9e866",
   "metadata": {},
   "source": [
    "Arguments are the actual values in the function call in it. These values are assingned to corresponding values of in the fuction."
   ]
  },
  {
   "cell_type": "markdown",
   "id": "cf92985a-8a4e-40c4-815f-df40436e5842",
   "metadata": {},
   "source": [
    "#### Types of parameters and Arguments"
   ]
  },
  {
   "cell_type": "markdown",
   "id": "cbb6606f-b91f-4fcd-8377-1894a71e716a",
   "metadata": {},
   "source": [
    "##### 1.Positional Parameters and Arguments"
   ]
  },
  {
   "cell_type": "markdown",
   "id": "6baf7ea4-c5ca-44bf-b4c9-099b86364f32",
   "metadata": {},
   "source": [
    "Positional parameters are defined in the order they are listed in the function definition, and positional arguments are assigned to these parameters based on their position."
   ]
  },
  {
   "cell_type": "code",
   "execution_count": 7,
   "id": "16cc47e1-e3e7-4c2f-8c18-e55039950ecb",
   "metadata": {},
   "outputs": [
    {
     "name": "stdout",
     "output_type": "stream",
     "text": [
      "Hello, Alakh!\n"
     ]
    }
   ],
   "source": [
    "def greet(name, message):\n",
    "    print(f\"{message}, {name}!\")\n",
    "\n",
    "greet(\"Alakh\", \"Hello\")  # \"Alice\" is assigned to name, \"Hello\" to message\n"
   ]
  },
  {
   "cell_type": "markdown",
   "id": "7bd7b3a3-1986-4d9b-a618-5147b24df9ac",
   "metadata": {
    "tags": []
   },
   "source": [
    "##### Default Arguments"
   ]
  },
  {
   "cell_type": "markdown",
   "id": "d6eb2a24-e81f-46a8-ba78-28534ac81703",
   "metadata": {},
   "source": [
    "Default parameters have default values that are used if no argument is passed for them. This makes certain arguments optional."
   ]
  },
  {
   "cell_type": "code",
   "execution_count": 8,
   "id": "09469810-a524-4303-9e82-84ac949662f4",
   "metadata": {},
   "outputs": [
    {
     "name": "stdout",
     "output_type": "stream",
     "text": [
      "Hello, man!\n",
      "Hi, man!\n"
     ]
    }
   ],
   "source": [
    "def greet(name, message=\"Hello\"):\n",
    "    print(f\"{message}, {name}!\")\n",
    "\n",
    "greet(\"man\")  # Uses the default message \"Hello\"\n",
    "greet(\"man\", \"Hi\")  # Overrides the default message with \"Hi\"\n"
   ]
  },
  {
   "cell_type": "markdown",
   "id": "0fbdc08c-b3dc-4156-8e99-1a1b728599d7",
   "metadata": {},
   "source": [
    "##### Variable Length Arguments"
   ]
  },
  {
   "cell_type": "markdown",
   "id": "f8775e1a-a488-4f04-935b-8b2052372dd6",
   "metadata": {},
   "source": [
    "Python allows functions to accept an arbitrary number of arguments using *args for positional arguments and **kwargs for keyword arguments."
   ]
  },
  {
   "cell_type": "code",
   "execution_count": 11,
   "id": "0f805ae9-10c3-4b11-8e28-8f930c0d2642",
   "metadata": {},
   "outputs": [
    {
     "name": "stdout",
     "output_type": "stream",
     "text": [
      "24\n"
     ]
    }
   ],
   "source": [
    "def multiply(*args):\n",
    "    result = 1\n",
    "    for num in args:\n",
    "        result *= num\n",
    "    return result\n",
    "\n",
    "print(multiply(1, 2, 3, 4))  # Output: 24\n"
   ]
  },
  {
   "cell_type": "markdown",
   "id": "6399cd42-2d19-4492-be09-89a8955f06f0",
   "metadata": {},
   "source": [
    "###  3. What are the different ways to define and call a function in Python?"
   ]
  },
  {
   "cell_type": "markdown",
   "id": "c6e3fed2-3ae6-437a-a341-82497cb92c20",
   "metadata": {},
   "source": [
    "##### 1. Standard Function call"
   ]
  },
  {
   "cell_type": "markdown",
   "id": "9d94bdc1-ec0d-47b4-8611-9e8daa1b1fbf",
   "metadata": {},
   "source": [
    "A standard function is defined using the def keyword followed by the function name and parentheses."
   ]
  },
  {
   "cell_type": "markdown",
   "id": "01c61cb3-8608-4728-ac1c-ac8be6b1d570",
   "metadata": {},
   "source": [
    "##### 2. Function with Parameters"
   ]
  },
  {
   "cell_type": "code",
   "execution_count": 12,
   "id": "13e34fed-aaf3-4d66-b59a-7bed76335a1d",
   "metadata": {},
   "outputs": [
    {
     "name": "stdout",
     "output_type": "stream",
     "text": [
      "Hello, Vamshi!\n"
     ]
    }
   ],
   "source": [
    "def greet(name):\n",
    "    print(f\"Hello, {name}!\")\n",
    "greet(\"Vamshi\")"
   ]
  },
  {
   "cell_type": "markdown",
   "id": "ad71a416-4d0b-49f1-b82d-c537ea1ee2e2",
   "metadata": {},
   "source": [
    "##### 3.Lambda function"
   ]
  },
  {
   "cell_type": "markdown",
   "id": "01c1fa4e-5802-4354-9a48-6bda91922848",
   "metadata": {},
   "source": [
    "Lambda functions are anonymous functions defined using the lambda keyword."
   ]
  },
  {
   "cell_type": "code",
   "execution_count": 14,
   "id": "bbc44386-2bbd-4965-8338-2b881f6f16b3",
   "metadata": {},
   "outputs": [
    {
     "name": "stdout",
     "output_type": "stream",
     "text": [
      "100\n"
     ]
    }
   ],
   "source": [
    "square = lambda x:x**2\n",
    "print(square(10))"
   ]
  },
  {
   "cell_type": "markdown",
   "id": "0b790777-b130-44e3-a8d2-2d730ad790bd",
   "metadata": {},
   "source": [
    "##### 4.Nested Function"
   ]
  },
  {
   "cell_type": "markdown",
   "id": "90e5f5f5-ab53-49d5-b359-c5806b9ec5ba",
   "metadata": {},
   "source": [
    "Function can be defined inside another function"
   ]
  },
  {
   "cell_type": "code",
   "execution_count": 16,
   "id": "622d2227-d307-4152-8b0a-4f5070195293",
   "metadata": {},
   "outputs": [
    {
     "name": "stdout",
     "output_type": "stream",
     "text": [
      "passing parameter to outer function and printing from inner function\n"
     ]
    }
   ],
   "source": [
    "def outer_function(text):\n",
    "    def inner_function():\n",
    "        print(text)\n",
    "    inner_function()\n",
    "outer_function(\"passing parameter to outer function and printing from inner function\")"
   ]
  },
  {
   "cell_type": "markdown",
   "id": "f32cf939-79be-4cfd-8489-3398d3c2f4df",
   "metadata": {},
   "source": [
    "##### 5. Recursive Function"
   ]
  },
  {
   "cell_type": "markdown",
   "id": "4a2e7770-e94a-48d5-a492-3c13fc541cce",
   "metadata": {},
   "source": [
    "function call can be done by itself in recursive function"
   ]
  },
  {
   "cell_type": "code",
   "execution_count": 17,
   "id": "32e60311-3b1a-44f3-b06a-5276ba8022c8",
   "metadata": {},
   "outputs": [
    {
     "data": {
      "text/plain": [
       "120"
      ]
     },
     "execution_count": 17,
     "metadata": {},
     "output_type": "execute_result"
    }
   ],
   "source": [
    "def fact(n):\n",
    "    if(n==0):\n",
    "        return 1\n",
    "    else:\n",
    "        return n*fact(n-1)\n",
    "fact(5)    "
   ]
  },
  {
   "cell_type": "markdown",
   "id": "9719ddc1-0b40-44ff-b1e4-9bc9e568f731",
   "metadata": {},
   "source": [
    "### 4. . What is the purpose of the `return` statement in a Python function?"
   ]
  },
  {
   "cell_type": "markdown",
   "id": "24eb7b44-5772-4965-983c-ace1721acf48",
   "metadata": {},
   "source": [
    "1. To return value to the caller"
   ]
  },
  {
   "cell_type": "code",
   "execution_count": 18,
   "id": "2bc3a4cf-512d-4f41-bdf1-efcee7f404f8",
   "metadata": {},
   "outputs": [
    {
     "name": "stdout",
     "output_type": "stream",
     "text": [
      "7\n"
     ]
    }
   ],
   "source": [
    "def add(a, b):\n",
    "    return a + b\n",
    "\n",
    "result = add(3, 4)\n",
    "print(result)  # Output: 7\n"
   ]
  },
  {
   "cell_type": "markdown",
   "id": "377d53e2-3095-412f-919d-10257fe7c589",
   "metadata": {},
   "source": [
    "2. To exit from the function"
   ]
  },
  {
   "cell_type": "code",
   "execution_count": 19,
   "id": "6bf3b62e-7f94-4d75-8d8b-03d07bdd1ec5",
   "metadata": {},
   "outputs": [
    {
     "name": "stdout",
     "output_type": "stream",
     "text": [
      "Positive\n",
      "Non-positive\n"
     ]
    }
   ],
   "source": [
    "def check_positive(number):\n",
    "    if number > 0:\n",
    "        return \"Positive\"\n",
    "    return \"Non-positive\"\n",
    "\n",
    "print(check_positive(10))  # Output: Positive\n",
    "print(check_positive(-5))  # Output: Non-positive\n"
   ]
  },
  {
   "cell_type": "markdown",
   "id": "0f69a255-2924-432a-9b43-f98c08fda426",
   "metadata": {},
   "source": [
    "3. Return multiple values"
   ]
  },
  {
   "cell_type": "code",
   "execution_count": 20,
   "id": "293a449c-2e52-40be-85a0-e3e7a9bfba40",
   "metadata": {},
   "outputs": [
    {
     "name": "stdout",
     "output_type": "stream",
     "text": [
      "Alice\n",
      "30\n"
     ]
    }
   ],
   "source": [
    "def get_name_and_age():\n",
    "    name = \"Alice\"\n",
    "    age = 30\n",
    "    return name, age\n",
    "\n",
    "name, age = get_name_and_age()\n",
    "print(name)  # Output: Alice\n",
    "print(age)   # Output: 30\n"
   ]
  },
  {
   "cell_type": "markdown",
   "id": "d473c3eb-cec1-494b-936f-8a7690160ba6",
   "metadata": {},
   "source": [
    "### 5. What are iterators in Python and how do they differ from iterables?"
   ]
  },
  {
   "cell_type": "markdown",
   "id": "0efc1476-57d4-45ac-a754-f6363710786d",
   "metadata": {},
   "source": [
    "Iterators are the objects that make the data structure iterable. Iterators are user in iterating the for loop. keyword 'iter()' must be used to iterate an iterable."
   ]
  },
  {
   "cell_type": "markdown",
   "id": "93cddb6a-74aa-49f2-b519-78fc52b22ebe",
   "metadata": {},
   "source": [
    "Iterable are the python data structure that are iterable by the iterators. Example: list, tuples, string, etc."
   ]
  },
  {
   "cell_type": "markdown",
   "id": "cb519317-21a3-4da2-9162-559ff45e743e",
   "metadata": {},
   "source": [
    "MAIN DIFFERENCE: Iterators are the object used to iterate iterable. Iterable are the data structure of python that to be accessed as members of iterable."
   ]
  },
  {
   "cell_type": "markdown",
   "id": "5fe158fa-2e20-44cb-ae07-cb6da309152f",
   "metadata": {},
   "source": [
    "### 6. Explain the concept of generators in Python and how they are defined."
   ]
  },
  {
   "cell_type": "markdown",
   "id": "8a7093d7-9519-4b99-aa21-c7f5358cab81",
   "metadata": {},
   "source": [
    "Generators in Python are a type of iterable, like lists or tuples, but they generate values on the fly and are often more memory-efficient, especially for large datasets. Generators generate values one by one so the memory usage is efficient."
   ]
  },
  {
   "cell_type": "markdown",
   "id": "98086614-82b0-4b3d-801d-1a0436608cbc",
   "metadata": {},
   "source": [
    "Generators uses the keyword 'yield', that returns the vlaue one by one.\n"
   ]
  },
  {
   "cell_type": "code",
   "execution_count": 23,
   "id": "6d291d08-173b-46b1-972f-ec9901ad642a",
   "metadata": {},
   "outputs": [
    {
     "name": "stdout",
     "output_type": "stream",
     "text": [
      "1\n",
      "2\n",
      "3\n",
      "4\n",
      "5\n"
     ]
    }
   ],
   "source": [
    "def count_up_to(max):\n",
    "    count = 1\n",
    "    while count <= max:\n",
    "        yield count\n",
    "        count += 1\n",
    "\n",
    "# Create a generator object\n",
    "counter = count_up_to(5)\n",
    "\n",
    "# Iterate through the generator\n",
    "for num in counter:\n",
    "    print(num)  # Output: 1, 2, 3, 4, 5\n"
   ]
  },
  {
   "cell_type": "markdown",
   "id": "0c9a0c48-559d-4870-8437-3592f7ef2763",
   "metadata": {},
   "source": [
    "### 7. What are the advantages of using generators over regular functions?"
   ]
  },
  {
   "cell_type": "markdown",
   "id": "8d564069-1af8-46d5-9ee2-d18c1fc16d9d",
   "metadata": {},
   "source": [
    "Using generators in Python offers several advantages over regular functions, particularly in terms of memory usage, performance, and code clarity"
   ]
  },
  {
   "cell_type": "markdown",
   "id": "ea0c0f7c-0a65-40ca-bbf4-7adac9562f04",
   "metadata": {},
   "source": [
    "1. Memory Efficiency\n",
    "2. Improved Performance\n",
    "3. Infinite Sequences\n",
    "4. Lazy Evaluation\n",
    "5. Pipeline Processing"
   ]
  },
  {
   "cell_type": "markdown",
   "id": "0e895980-526a-44a6-8d7c-d232e7e5ed9e",
   "metadata": {},
   "source": [
    "### 8. What is a lambda function in Python and when is it typically used?"
   ]
  },
  {
   "cell_type": "markdown",
   "id": "0bb97203-3a66-4b9b-87be-cf49a2dc78d3",
   "metadata": {},
   "source": [
    "A lambda function in Python is a small, anonymous function defined using the lambda keyword. It can have any number of arguments but only one expression. The expression is evaluated and returned when the lambda function is called. Lambda functions are often used for short, simple operations or when a full function definition would be overkill."
   ]
  },
  {
   "cell_type": "markdown",
   "id": "f882c5f2-d57f-42c3-8174-2a9af271d18d",
   "metadata": {},
   "source": [
    "Lambda functions are commonly used with higher-order functions like map(), filter(), and reduce()."
   ]
  },
  {
   "cell_type": "code",
   "execution_count": 24,
   "id": "aa182454-1ece-470d-afc7-5fdc490d586b",
   "metadata": {},
   "outputs": [
    {
     "name": "stdout",
     "output_type": "stream",
     "text": [
      "[1, 4, 9, 16]\n"
     ]
    }
   ],
   "source": [
    "numbers = [1, 2, 3, 4]\n",
    "squares = list(map(lambda x: x ** 2, numbers))\n",
    "print(squares)  # Output: [1, 4, 9, 16]\n"
   ]
  },
  {
   "cell_type": "code",
   "execution_count": 25,
   "id": "42b7d9bf-e4da-4dd3-9cc0-66dc8ff444fb",
   "metadata": {},
   "outputs": [
    {
     "name": "stdout",
     "output_type": "stream",
     "text": [
      "[2, 4]\n"
     ]
    }
   ],
   "source": [
    "numbers = [1, 2, 3, 4, 5]\n",
    "even_numbers = list(filter(lambda x: x % 2 == 0, numbers))\n",
    "print(even_numbers)  # Output: [2, 4]\n"
   ]
  },
  {
   "cell_type": "code",
   "execution_count": 26,
   "id": "17d52fed-27f9-463c-9b34-3d683a54744e",
   "metadata": {},
   "outputs": [
    {
     "name": "stdout",
     "output_type": "stream",
     "text": [
      "24\n"
     ]
    }
   ],
   "source": [
    "from functools import reduce\n",
    "\n",
    "numbers = [1, 2, 3, 4]\n",
    "product = reduce(lambda x, y: x * y, numbers)\n",
    "print(product)  # Output: 24\n"
   ]
  },
  {
   "cell_type": "markdown",
   "id": "a7c44ef7-2277-4f61-b73c-68a40ef297cb",
   "metadata": {},
   "source": [
    "### 9. Explain the purpose and usage of the `map()` function in Python."
   ]
  },
  {
   "cell_type": "markdown",
   "id": "5d797c96-b353-44c5-8a8b-7da85439e02d",
   "metadata": {},
   "source": [
    "The map() function in Python is used to apply a given function to all items in an iterable"
   ]
  },
  {
   "cell_type": "markdown",
   "id": "67d18a17-ecc0-4ab0-a38b-6338979ff051",
   "metadata": {},
   "source": [
    "##### Purpose of 'map()'"
   ]
  },
  {
   "cell_type": "markdown",
   "id": "fd33f2f7-1ffe-4783-a8d3-7b5991dbe2e8",
   "metadata": {},
   "source": [
    "Transformation: The primary purpose of map() is to apply a function to each item in an iterable and produce a new iterable with the transformed items."
   ]
  },
  {
   "cell_type": "markdown",
   "id": "e87b3354-c378-49c7-a732-599df0480de2",
   "metadata": {},
   "source": [
    "Efficiency: map() allows for more efficient looping over data as it applies the function in a streamlined manner."
   ]
  },
  {
   "cell_type": "markdown",
   "id": "3e01b2ad-81dd-478d-a259-5ad70f854ad3",
   "metadata": {},
   "source": [
    "Readability: Using map() can make the code more concise and expressive compared to a traditional for loop."
   ]
  },
  {
   "cell_type": "markdown",
   "id": "ea38b333-04aa-48c4-bf43-7fff1468c1cf",
   "metadata": {},
   "source": [
    "Syntax: map(function, iterable)\n"
   ]
  },
  {
   "cell_type": "markdown",
   "id": "eebb3d74-bec2-4c8d-8fe4-322eb82eba7b",
   "metadata": {},
   "source": [
    "##### Usage Examples"
   ]
  },
  {
   "cell_type": "markdown",
   "id": "f19cfa6f-3689-4b99-b224-6c4a801eca70",
   "metadata": {},
   "source": [
    "1. Basic Usage with a Single Iterable: \n",
    "Apply a function to each item in a list:"
   ]
  },
  {
   "cell_type": "code",
   "execution_count": 27,
   "id": "c908e4c0-b969-407a-a6e8-b4020831a081",
   "metadata": {},
   "outputs": [
    {
     "data": {
      "text/plain": [
       "[1, 4, 9, 16, 25]"
      ]
     },
     "execution_count": 27,
     "metadata": {},
     "output_type": "execute_result"
    }
   ],
   "source": [
    "list(map(lambda x:x*x,[1,2,3,4,5]))"
   ]
  },
  {
   "cell_type": "markdown",
   "id": "dc209c06-8b64-4baf-992e-afa8b14dfb6f",
   "metadata": {},
   "source": [
    "2. Using multiple Iterables:  Apply a function that takes multiple arguments to multiple iterables"
   ]
  },
  {
   "cell_type": "code",
   "execution_count": 28,
   "id": "4ff866b4-f3ec-42c2-b4de-861f0d03d99c",
   "metadata": {},
   "outputs": [
    {
     "name": "stdout",
     "output_type": "stream",
     "text": [
      "[5, 7, 9]\n"
     ]
    }
   ],
   "source": [
    "def add(x, y):\n",
    "    return x + y\n",
    "numbers1 = [1, 2, 3]\n",
    "numbers2 = [4, 5, 6]\n",
    "sums=map(add,numbers1,numbers2)\n",
    "print(list(sums))"
   ]
  },
  {
   "cell_type": "markdown",
   "id": "2c347fad-71e6-4607-bda1-d35fee5d3db1",
   "metadata": {},
   "source": [
    "##### 10. . What is the difference between `map()`, `reduce()`, and `filter()` functions in Python?"
   ]
  },
  {
   "cell_type": "markdown",
   "id": "c2b03cb8-95af-4f26-9f58-36bd9cbe9688",
   "metadata": {},
   "source": [
    "map() applies a given function to each item of an iterable (such as a list) and returns a new iterable (map object) with the results."
   ]
  },
  {
   "cell_type": "markdown",
   "id": "422efc9d-efc0-4155-872a-27ff65710087",
   "metadata": {},
   "source": [
    "reduce() applies a function of two arguments cumulatively to the items of an iterable, from left to right, to reduce the iterable to a single value. reduce() is part of the functools module."
   ]
  },
  {
   "cell_type": "markdown",
   "id": "327a9921-ebf6-4d17-830c-963e2a881dc9",
   "metadata": {},
   "source": [
    "filter() constructs a new iterable by selecting elements from an iterable that return True for a specified function."
   ]
  },
  {
   "cell_type": "markdown",
   "id": "03b74f55-ac0d-43e8-867c-b1e0fe276216",
   "metadata": {},
   "source": [
    "# Practical Questions:"
   ]
  },
  {
   "cell_type": "markdown",
   "id": "bbb16d72-08d0-4d3b-96c6-f5da2e8f91cf",
   "metadata": {},
   "source": [
    "### 1. Write a Python function that takes a list of numbers as input and returns the sum of all even numbers in the list."
   ]
  },
  {
   "cell_type": "code",
   "execution_count": 7,
   "id": "99a2d92a-759a-4b5b-8fcc-622e1ac67770",
   "metadata": {},
   "outputs": [
    {
     "name": "stdout",
     "output_type": "stream",
     "text": [
      "sum of even numbers in input list is 20\n"
     ]
    }
   ],
   "source": [
    "def sumofeven(l):\n",
    "    sum=0\n",
    "    for i in l:\n",
    "        if(i%2==0):\n",
    "            sum=sum+i\n",
    "    return sum    \n",
    "print(\"sum of even numbers in input list is\",sumofeven([1,2,3,4,5,6,7,8,9]))"
   ]
  },
  {
   "cell_type": "markdown",
   "id": "0b970f58-aafd-4c48-8f3f-7bf182b06e73",
   "metadata": {},
   "source": [
    "### 2. Create a Python function that accepts a string and returns the reverse of that string."
   ]
  },
  {
   "cell_type": "code",
   "execution_count": 15,
   "id": "a495facc-80bb-4f2e-afde-d17022faa6e6",
   "metadata": {},
   "outputs": [
    {
     "name": "stdout",
     "output_type": "stream",
     "text": [
      "reverse of string in the list is ['owt', 'ruof', 'xis']\n"
     ]
    }
   ],
   "source": [
    "def revstring(l):\n",
    "    rev_list=[]\n",
    "    for i in l:\n",
    "        if(type(i)==str):\n",
    "            rev_list.append(i[::-1])\n",
    "    return rev_list\n",
    "l=[1,\"two\",3,\"four\",5,\"six\"]\n",
    "\n",
    "print(\"reverse of string in the list is\",revstring(l))"
   ]
  },
  {
   "cell_type": "markdown",
   "id": "427afe53-5a9f-41e9-87e9-e0a71950c28a",
   "metadata": {},
   "source": [
    "### 3. Implement a Python function that takes a list of integers and returns a new list containing the squares of each number."
   ]
  },
  {
   "cell_type": "code",
   "execution_count": 17,
   "id": "9dbf2551-8a5a-4c79-849f-0f94a35e5862",
   "metadata": {},
   "outputs": [
    {
     "name": "stdout",
     "output_type": "stream",
     "text": [
      "[1, 4, 9, 16, 25]\n"
     ]
    }
   ],
   "source": [
    "def square_list(numbers):\n",
    "    return [num ** 2 for num in numbers]\n",
    "\n",
    "numbers = [1, 2, 3, 4, 5]\n",
    "squared_numbers = square_list(numbers)\n",
    "print(squared_numbers)\n"
   ]
  },
  {
   "cell_type": "markdown",
   "id": "7d0db073-fcd7-4641-8a1a-af88b302d4d1",
   "metadata": {},
   "source": [
    "### 4. Write a Python function that checks if a given number is prime or not from 1 to 200."
   ]
  },
  {
   "cell_type": "code",
   "execution_count": 3,
   "id": "4dfd8032-2824-4f12-a08e-fea93c19eb56",
   "metadata": {},
   "outputs": [
    {
     "name": "stdout",
     "output_type": "stream",
     "text": [
      "1: Not Prime\n",
      "2: Prime\n",
      "3: Prime\n",
      "4: Not Prime\n",
      "5: Prime\n",
      "6: Not Prime\n",
      "7: Prime\n",
      "8: Not Prime\n",
      "9: Not Prime\n",
      "10: Not Prime\n",
      "11: Prime\n",
      "12: Not Prime\n",
      "13: Prime\n",
      "14: Not Prime\n",
      "15: Not Prime\n",
      "16: Not Prime\n",
      "17: Prime\n",
      "18: Not Prime\n",
      "19: Prime\n",
      "20: Not Prime\n",
      "21: Not Prime\n",
      "22: Not Prime\n",
      "23: Prime\n",
      "24: Not Prime\n",
      "25: Not Prime\n",
      "26: Not Prime\n",
      "27: Not Prime\n",
      "28: Not Prime\n",
      "29: Prime\n",
      "30: Not Prime\n",
      "31: Prime\n",
      "32: Not Prime\n",
      "33: Not Prime\n",
      "34: Not Prime\n",
      "35: Not Prime\n",
      "36: Not Prime\n",
      "37: Prime\n",
      "38: Not Prime\n",
      "39: Not Prime\n",
      "40: Not Prime\n",
      "41: Prime\n",
      "42: Not Prime\n",
      "43: Prime\n",
      "44: Not Prime\n",
      "45: Not Prime\n",
      "46: Not Prime\n",
      "47: Prime\n",
      "48: Not Prime\n",
      "49: Not Prime\n",
      "50: Not Prime\n",
      "51: Not Prime\n",
      "52: Not Prime\n",
      "53: Prime\n",
      "54: Not Prime\n",
      "55: Not Prime\n",
      "56: Not Prime\n",
      "57: Not Prime\n",
      "58: Not Prime\n",
      "59: Prime\n",
      "60: Not Prime\n",
      "61: Prime\n",
      "62: Not Prime\n",
      "63: Not Prime\n",
      "64: Not Prime\n",
      "65: Not Prime\n",
      "66: Not Prime\n",
      "67: Prime\n",
      "68: Not Prime\n",
      "69: Not Prime\n",
      "70: Not Prime\n",
      "71: Prime\n",
      "72: Not Prime\n",
      "73: Prime\n",
      "74: Not Prime\n",
      "75: Not Prime\n",
      "76: Not Prime\n",
      "77: Not Prime\n",
      "78: Not Prime\n",
      "79: Prime\n",
      "80: Not Prime\n",
      "81: Not Prime\n",
      "82: Not Prime\n",
      "83: Prime\n",
      "84: Not Prime\n",
      "85: Not Prime\n",
      "86: Not Prime\n",
      "87: Not Prime\n",
      "88: Not Prime\n",
      "89: Prime\n",
      "90: Not Prime\n",
      "91: Not Prime\n",
      "92: Not Prime\n",
      "93: Not Prime\n",
      "94: Not Prime\n",
      "95: Not Prime\n",
      "96: Not Prime\n",
      "97: Prime\n",
      "98: Not Prime\n",
      "99: Not Prime\n",
      "100: Not Prime\n",
      "101: Prime\n",
      "102: Not Prime\n",
      "103: Prime\n",
      "104: Not Prime\n",
      "105: Not Prime\n",
      "106: Not Prime\n",
      "107: Prime\n",
      "108: Not Prime\n",
      "109: Prime\n",
      "110: Not Prime\n",
      "111: Not Prime\n",
      "112: Not Prime\n",
      "113: Prime\n",
      "114: Not Prime\n",
      "115: Not Prime\n",
      "116: Not Prime\n",
      "117: Not Prime\n",
      "118: Not Prime\n",
      "119: Not Prime\n",
      "120: Not Prime\n",
      "121: Not Prime\n",
      "122: Not Prime\n",
      "123: Not Prime\n",
      "124: Not Prime\n",
      "125: Not Prime\n",
      "126: Not Prime\n",
      "127: Prime\n",
      "128: Not Prime\n",
      "129: Not Prime\n",
      "130: Not Prime\n",
      "131: Prime\n",
      "132: Not Prime\n",
      "133: Not Prime\n",
      "134: Not Prime\n",
      "135: Not Prime\n",
      "136: Not Prime\n",
      "137: Prime\n",
      "138: Not Prime\n",
      "139: Prime\n",
      "140: Not Prime\n",
      "141: Not Prime\n",
      "142: Not Prime\n",
      "143: Not Prime\n",
      "144: Not Prime\n",
      "145: Not Prime\n",
      "146: Not Prime\n",
      "147: Not Prime\n",
      "148: Not Prime\n",
      "149: Prime\n",
      "150: Not Prime\n",
      "151: Prime\n",
      "152: Not Prime\n",
      "153: Not Prime\n",
      "154: Not Prime\n",
      "155: Not Prime\n",
      "156: Not Prime\n",
      "157: Prime\n",
      "158: Not Prime\n",
      "159: Not Prime\n",
      "160: Not Prime\n",
      "161: Not Prime\n",
      "162: Not Prime\n",
      "163: Prime\n",
      "164: Not Prime\n",
      "165: Not Prime\n",
      "166: Not Prime\n",
      "167: Prime\n",
      "168: Not Prime\n",
      "169: Not Prime\n",
      "170: Not Prime\n",
      "171: Not Prime\n",
      "172: Not Prime\n",
      "173: Prime\n",
      "174: Not Prime\n",
      "175: Not Prime\n",
      "176: Not Prime\n",
      "177: Not Prime\n",
      "178: Not Prime\n",
      "179: Prime\n",
      "180: Not Prime\n",
      "181: Prime\n",
      "182: Not Prime\n",
      "183: Not Prime\n",
      "184: Not Prime\n",
      "185: Not Prime\n",
      "186: Not Prime\n",
      "187: Not Prime\n",
      "188: Not Prime\n",
      "189: Not Prime\n",
      "190: Not Prime\n",
      "191: Prime\n",
      "192: Not Prime\n",
      "193: Prime\n",
      "194: Not Prime\n",
      "195: Not Prime\n",
      "196: Not Prime\n",
      "197: Prime\n",
      "198: Not Prime\n",
      "199: Prime\n",
      "200: Not Prime\n"
     ]
    }
   ],
   "source": [
    "def is_prime(n):\n",
    "    \"\"\"Check if a number is prime.\"\"\"\n",
    "    if n <= 1:\n",
    "        return False\n",
    "    for i in range(2, int(n**0.5) + 1):\n",
    "        if n % i == 0:\n",
    "            return False\n",
    "    return True\n",
    "\n",
    "\n",
    "for num in range(1, 201):\n",
    "    print(f\"{num}: {'Prime' if is_prime(num) else 'Not Prime'}\")\n"
   ]
  },
  {
   "cell_type": "markdown",
   "id": "ad99f1c4-ccf9-4d4b-acb1-bb88fd30a814",
   "metadata": {},
   "source": [
    "### 5. Create an iterator class in Python that generates the Fibonacci sequence up to a specified number of terms."
   ]
  },
  {
   "cell_type": "code",
   "execution_count": 4,
   "id": "1582779e-2d98-417d-902b-037ca6f836ba",
   "metadata": {},
   "outputs": [
    {
     "name": "stdout",
     "output_type": "stream",
     "text": [
      "0\n",
      "1\n",
      "1\n",
      "1\n",
      "2\n",
      "3\n",
      "5\n",
      "8\n",
      "13\n",
      "21\n"
     ]
    }
   ],
   "source": [
    "class FibonacciIterator:\n",
    "    def __init__(self, num_terms):\n",
    "        self.num_terms = num_terms\n",
    "        self.index = 0\n",
    "        self.a, self.b = 0, 1\n",
    "\n",
    "    def __iter__(self):\n",
    "        return self\n",
    "\n",
    "    def __next__(self):\n",
    "        if self.index >= self.num_terms:\n",
    "            raise StopIteration\n",
    "        if self.index == 0:\n",
    "            self.index += 1\n",
    "            return self.a\n",
    "        elif self.index == 1:\n",
    "            self.index += 1\n",
    "            return self.b\n",
    "        else:\n",
    "            self.a, self.b = self.b, self.a + self.b\n",
    "            self.index += 1\n",
    "            return self.a\n",
    "\n",
    "# Example usage:\n",
    "fib_iterator = FibonacciIterator(10)\n",
    "for num in fib_iterator:\n",
    "    print(num)\n"
   ]
  },
  {
   "cell_type": "markdown",
   "id": "3ddd5cd4-ec85-4fcc-931d-fe4afe9276b9",
   "metadata": {},
   "source": [
    "### 6. Write a generator function in Python that yields the powers of 2 up to a given exponent."
   ]
  },
  {
   "cell_type": "code",
   "execution_count": 5,
   "id": "3a468713-99a3-4980-8cfe-754620bcfb64",
   "metadata": {},
   "outputs": [
    {
     "name": "stdout",
     "output_type": "stream",
     "text": [
      "1\n",
      "2\n",
      "4\n",
      "8\n",
      "16\n",
      "32\n"
     ]
    }
   ],
   "source": [
    "def powers_of_two(max_exponent):\n",
    "    for exponent in range(max_exponent + 1):\n",
    "        yield 2 ** exponent\n",
    "\n",
    "# Example usage:\n",
    "for power in powers_of_two(5):\n",
    "    print(power)\n"
   ]
  },
  {
   "cell_type": "markdown",
   "id": "3c93c862-1908-4ff9-b231-0f597c8ae388",
   "metadata": {},
   "source": [
    "### 7. Implement a generator function that reads a file line by line and yields each line as a string."
   ]
  },
  {
   "cell_type": "code",
   "execution_count": 1,
   "id": "f35014f6-aac1-440a-b45e-87109106f1f0",
   "metadata": {},
   "outputs": [
    {
     "name": "stdout",
     "output_type": "stream",
     "text": [
      "Line 1\n",
      "Line 2\n",
      "Line 3\n"
     ]
    }
   ],
   "source": [
    "def read_file_line_by_line(file_path):\n",
    "    \"\"\"Generator function to read a file line by line.\"\"\"\n",
    "    with open(file_path, 'r') as file:\n",
    "        for line in file:\n",
    "            yield line.strip()\n",
    "\n",
    "# Example usage:\n",
    "# Create a file named 'example.txt' for testing\n",
    "with open('example1.txt', 'w') as f:\n",
    "    f.write('Line 1\\nLine 2\\nLine 3\\n')\n",
    "for line in read_file_line_by_line('example1.txt'):\n",
    "    print(line)"
   ]
  },
  {
   "cell_type": "markdown",
   "id": "6f49d1e8-5a7a-45d5-92a6-ed0dcff957d3",
   "metadata": {},
   "source": [
    "### 8. Use a lambda function in Python to sort a list of tuples based on the second element of each tuple."
   ]
  },
  {
   "cell_type": "markdown",
   "id": "101a0b73-99e8-4ceb-892e-5d01e26f4d43",
   "metadata": {},
   "source": [
    "# Sample list of tuples\n",
    "list_of_tuples = [(1, 3), (4, 1), (5, 2), (2, 4)]\n",
    "\n",
    "# Sort the list of tuples by the second element\n",
    "sorted_list = sorted(list_of_tuples, key=lambda x: x[1])\n",
    "\n",
    "print(sorted_list)\n"
   ]
  },
  {
   "cell_type": "markdown",
   "id": "1bd89bde-a58e-432f-bef8-f52594c58e4d",
   "metadata": {},
   "source": [
    "### 9. Write a Python program that uses `map()` to convert a list of temperatures from Celsius to Fahrenheit."
   ]
  },
  {
   "cell_type": "code",
   "execution_count": 10,
   "id": "d2936ce5-0c1a-438e-9e77-c09cdf163547",
   "metadata": {},
   "outputs": [
    {
     "name": "stdout",
     "output_type": "stream",
     "text": [
      "[32.0, 68.0, 98.6, 212.0]\n"
     ]
    }
   ],
   "source": [
    "# Function to convert Celsius to Fahrenheit\n",
    "def celsius_to_fahrenheit(celsius):\n",
    "    return (celsius * 9/5) + 32\n",
    "\n",
    "# List of temperatures in Celsius\n",
    "celsius_temperatures = [0, 20, 37, 100]\n",
    "\n",
    "# Use map() to apply the conversion function to each element in the list\n",
    "fahrenheit_temperatures = list(map(celsius_to_fahrenheit, celsius_temperatures))\n",
    "\n",
    "print(fahrenheit_temperatures)\n"
   ]
  },
  {
   "cell_type": "markdown",
   "id": "9dbd968a-2bdc-417a-90a1-8f65927e526e",
   "metadata": {},
   "source": [
    "###  10. Create a Python program that uses `filter()` to remove all the vowels from a given string."
   ]
  },
  {
   "cell_type": "code",
   "execution_count": 11,
   "id": "7bff1054-98a6-4b97-8dde-df785e101d95",
   "metadata": {},
   "outputs": [
    {
     "name": "stdout",
     "output_type": "stream",
     "text": [
      "Hll, Wrld!\n"
     ]
    }
   ],
   "source": [
    "def remove_vowels(input_string):\n",
    "    vowels = 'aeiouAEIOU'\n",
    "    return ''.join(filter(lambda char: char not in vowels, input_string))\n",
    "\n",
    "# Example usage:\n",
    "input_string = \"Hello, World!\"\n",
    "result = remove_vowels(input_string)\n",
    "print(result)\n"
   ]
  },
  {
   "cell_type": "markdown",
   "id": "aec43547-7ed7-4f63-940d-17b82b8ac7c8",
   "metadata": {
    "tags": []
   },
   "source": [
    "### 11"
   ]
  },
  {
   "cell_type": "code",
   "execution_count": 12,
   "id": "b8e86b1d-336e-4100-a271-98ad271daee6",
   "metadata": {},
   "outputs": [
    {
     "name": "stdout",
     "output_type": "stream",
     "text": [
      "[(34587, 163.8), (98762, 284.0), (77226, 108.85000000000001), (88112, 84.97)]\n"
     ]
    }
   ],
   "source": [
    "# Sample list of orders\n",
    "orders = [\n",
    "    [34587, 4, 40.95],\n",
    "    [98762, 5, 56.80],\n",
    "    [77226, 3, 32.95],\n",
    "    [88112, 3, 24.99]\n",
    "]\n",
    "\n",
    "# Function to calculate the total price\n",
    "calculate_total = lambda order: (order[0], order[1] * order[2] + (10 if order[1] * order[2] < 100 else 0))\n",
    "\n",
    "# Use map to apply the function to each order\n",
    "order_totals = list(map(calculate_total, orders))\n",
    "\n",
    "print(order_totals)\n"
   ]
  },
  {
   "cell_type": "code",
   "execution_count": null,
   "id": "a91762b6-eaf2-4bd2-a2ea-130aa76ab845",
   "metadata": {},
   "outputs": [],
   "source": []
  }
 ],
 "metadata": {
  "kernelspec": {
   "display_name": "Python 3 (ipykernel)",
   "language": "python",
   "name": "python3"
  },
  "language_info": {
   "codemirror_mode": {
    "name": "ipython",
    "version": 3
   },
   "file_extension": ".py",
   "mimetype": "text/x-python",
   "name": "python",
   "nbconvert_exporter": "python",
   "pygments_lexer": "ipython3",
   "version": "3.10.8"
  }
 },
 "nbformat": 4,
 "nbformat_minor": 5
}
